{
 "cells": [
  {
   "cell_type": "markdown",
   "id": "5ba25cc8",
   "metadata": {},
   "source": [
    "### Comparative Analysis plots"
   ]
  },
  {
   "cell_type": "code",
   "execution_count": null,
   "id": "be1604c1",
   "metadata": {},
   "outputs": [],
   "source": [
    "import matplotlib.pyplot as plt\n",
    "from datetime import datetime\n",
    "from memory_profiler import memory_usage\n",
    "plt.style.use(\"bmh\")\n",
    "\n",
    "\n",
    "# Defining the Sieve of Eratosthenes function\n",
    "def SieveOfEratosthenes(num):\n",
    "    sieve = [True for i in range(num+1)]\n",
    "    p = 2\n",
    "    while (p * p <= num):\n",
    "        if (sieve[p] == True):\n",
    "            for i in range(p * p, num+1, p):\n",
    "                sieve[i] = False\n",
    "        p += 1\n",
    "\n",
    "# Measuring execution time\n",
    "def measure_time_only(n):\n",
    "    start_time = datetime.now()\n",
    "    SieveOfEratosthenes(n)\n",
    "    end_time = datetime.now()\n",
    "    time_taken = (end_time - start_time).total_seconds() * 1000  # Convertion to milliseconds\n",
    "    return time_taken\n",
    "\n",
    "# Function to measure memory usage\n",
    "def measure_memory_usage(n):\n",
    "    mem_usage = memory_usage((SieveOfEratosthenes, (n,)), interval=0.02, timeout=1)\n",
    "    return max(mem_usage) - min(mem_usage)  # Memory usage in MB\n",
    "\n",
    "results_time = {\n",
    "    99999: 3.128,\n",
    "    9999: 0.358,\n",
    "    999: 0.029,\n",
    "    99: 0.053,\n",
    "    9: 0.018\n",
    "}\n",
    "memory_usage_kb = 1  # Total memory usage in KB for Assembly\n",
    "\n",
    "# Python results\n",
    "python_results_time = {n: measure_time_only(n) for n in results_time.keys()}\n",
    "python_memory_usage_mb = measure_memory_usage(99999)  # Memory usage in MB\n",
    "\n",
    "# Plotting execution time comparison\n",
    "plt.figure(figsize=(12, 6))\n",
    "plt.plot(results_time.keys(), results_time.values(), marker='o', label='Assembly')\n",
    "plt.plot(python_results_time.keys(), python_results_time.values(), marker='o', label='Python')\n",
    "plt.title('Execution Time vs N')\n",
    "plt.xlabel('N (Upper Limit for Prime Numbers)')\n",
    "plt.ylabel('Execution Time (Milliseconds)')\n",
    "plt.legend()\n",
    "plt.grid(True)\n",
    "plt.show()\n",
    "\n",
    "# Plotting memory usage comparison \n",
    "python_memory_usage_kb = python_memory_usage_mb * 1024  # Convert MB to KB\n",
    "fig, ax = plt.subplots(figsize=(12, 6))\n",
    "bar_plot = ax.bar(['Assembly', 'Python'], [memory_usage_kb, python_memory_usage_kb], color=['blue', 'orange'])\n",
    "\n",
    "# Adding value labels on the bar chart\n",
    "for bar in bar_plot:\n",
    "    yval = bar.get_height()\n",
    "    ax.text(bar.get_x() + bar.get_width()/2, yval, round(yval, 2), va='bottom', ha='center')\n",
    "\n",
    "plt.title('Memory Usage Comparison at N=99999')\n",
    "plt.ylabel('Memory Usage (KB)')\n",
    "plt.show()\n"
   ]
  },
  {
   "cell_type": "code",
   "execution_count": null,
   "id": "76ea65c3",
   "metadata": {},
   "outputs": [],
   "source": []
  }
 ],
 "metadata": {
  "kernelspec": {
   "display_name": "Python 3 (ipykernel)",
   "language": "python",
   "name": "python3"
  },
  "language_info": {
   "codemirror_mode": {
    "name": "ipython",
    "version": 3
   },
   "file_extension": ".py",
   "mimetype": "text/x-python",
   "name": "python",
   "nbconvert_exporter": "python",
   "pygments_lexer": "ipython3",
   "version": "3.9.7"
  }
 },
 "nbformat": 4,
 "nbformat_minor": 5
}
